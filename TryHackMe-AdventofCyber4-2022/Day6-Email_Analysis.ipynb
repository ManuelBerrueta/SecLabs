{
 "cells": [
  {
   "attachments": {},
   "cell_type": "markdown",
   "metadata": {},
   "source": [
    "<style> h1 {text-align: center;}</style>\n",
    "<h1>Email Analysis </h1>\n"
   ]
  },
  {
   "attachments": {},
   "cell_type": "markdown",
   "metadata": {},
   "source": [
    "## Email Headers\n",
    "\n",
    "| Field                          | Details                                                                                                                                            |\n",
    "|--------------------------------|----------------------------------------------------------------------------------------------------------------------------------------------------|\n",
    "| From                           | The sender's address.                                                                                                                              |\n",
    "| To                             | The receiver's address, including CC and BCC.                                                                                                      |\n",
    "| Date                           | Timestamp, when the email was sent.                                                                                                                |\n",
    "| Subject                        | The subject of the email.                                                                                                                          |\n",
    "| Return Path                    | The return address of the reply, a.k.a. \"Reply-To\".If you reply to an email, the reply will go to the address mentioned in this field.             |\n",
    "| Domain Key and DKIM Signatures | Email signatures are provided by email services to identify and authenticate emails.                                                               |\n",
    "| SPF                            | Shows the server that was used to send the email.It will help to understand if the actual server is used to send the email from a specific domain. |\n",
    "| Message-ID                     | Unique ID of the email.                                                                                                                            |\n",
    "| MIME-Version                   | Used MIME version. It will help to understand the delivered \"non-text\" contents and attachments.                                                   |\n",
    "| X-Headers                      | The receiver mail providers usually add these fields.Provided info is usually experimental and can be different according to the mail provider.    |\n",
    "| X-Received                     | Mail servers that the email went through.                                                                                                          |\n",
    "| X-Spam Status                  | Spam score of the email.                                                                                                                           |\n",
    "| X-Mailer                       | Email client name.                                                                                                                                 |\n",
    "\n",
    "---    "
   ]
  },
  {
   "attachments": {},
   "cell_type": "markdown",
   "metadata": {},
   "source": [
    "## Important Email Header Fields for Quick Analysis\n",
    "| Questions to Ask / Required Checks&nbsp;                      | Evaluation                                                                                                    |\n",
    "|---------------------------------------------------------------|---------------------------------------------------------------------------------------------------------------|\n",
    "| Do the \"From\", \"To\", and \"CC\" fields contain valid addresses? | Having invalid addresses is a red flag.                                                                       |\n",
    "| Are the \"From\" and \"To\" fields the same?                      | Having the same sender and recipient is a red flag.                                                           |\n",
    "| Are the \"From\" and \"Return-Path\" fields the same?             | Having different values in these sections is a red flag.                                                      |\n",
    "| Was the email sent from the correct server?                   | Email should have come from the official mail servers of the sender.                                          |\n",
    "| Does the \"Message-ID\" field exist, and is it valid?           | Empty and malformed values are red flags.                                                                     |\n",
    "| Do the hyperlinks redirect to suspicious/abnormal sites?      | Suspicious links and redirections are red flags.                                                              |\n",
    "| Do the attachments consist of or contain malware?             | Suspicious attachments are a red flag.File hashes marked as suspicious/malicious by sandboxes are a red flag. |\n",
    "---     "
   ]
  },
  {
   "attachments": {},
   "cell_type": "markdown",
   "metadata": {},
   "source": [
    "## Email Inspection Tooling\n",
    "\n",
    "### Text Editor\n",
    "You can used a text editor to view the message. However, their might be some limitations, especially when an email has attachments.\n",
    "\n",
    "### `emlAnalyzer`\n",
    "You can use this to do an in depth analysis. It will parse the email and separate it in sections.\n",
    "\n",
    "### https://emailrep.io/ \n",
    "Use this OSINT tool to check the reputation of the addresses found in the sender and return path.\n",
    "\n",
    "---     "
   ]
  },
  {
   "attachments": {},
   "cell_type": "markdown",
   "metadata": {},
   "source": [
    "## Further OSINT Analysis of Email Artifacts\n",
    "| Tool             | Purpose                                                                                                                |\n",
    "|------------------|------------------------------------------------------------------------------------------------------------------------|\n",
    "| VirusTotal       | A service that provides a cloud-based detection toolset and sandbox environment.                                       |\n",
    "| InQuest          | A service provides network and file analysis by using threat analytics.                                                |\n",
    "| IPinfo.io        | A service that provides detailed information about an IP address by focusing on geolocation data and service provider. |\n",
    "| Talos Reputation | An IP reputation check service is provided by Cisco Talos.                                                             |\n",
    "| Urlscan.io       | A service that analyses websites by simulating regular user behaviour.                                                 |\n",
    "| Browserling      | A browser sandbox is used to test suspicious/malicious links.                                                          |\n",
    "| Wannabrowser     | A browser sandbox is used to test suspicious/malicious links.                                                          |\n",
    "\n",
    "---     "
   ]
  },
  {
   "attachments": {},
   "cell_type": "markdown",
   "metadata": {},
   "source": [
    "# Solving the task"
   ]
  },
  {
   "attachments": {},
   "cell_type": "markdown",
   "metadata": {},
   "source": [
    "# Quick look using the Sublime Text Editor\n",
    "I first took a quick look at `Urgent:.eml` file in Sublime\n",
    "\n",
    "## Things that stood out + Making sense of the email\n",
    "From top to bottom:\n",
    "- It looks like the email was sent internal per the `X-Pnm-Origin` header...\n",
    "- This was sent from **chief.elf@santaclaus.thm**\n",
    "    - This could be the account that was compromised\n",
    "- `Content-Type: multipart/mixed;boundary=----------03edd9c682aec8f60d54b9e4bb86659f`\n",
    "    - It looks like this email is broken down in multiple parts (hence the multipart)\n",
    "    - We can continue to follow the chain below\n",
    "- It was sent to **elves.all@santaclaus.thm**\n",
    "    - This could be an email group which includes all users who are elves\n",
    "    - Thus, it was probably sent out to all the elves. Which means their is a decent chance that at least one fell for the email.\n",
    "- Their is a file attached: \"Division_of_labour-Load_share_plan.doc\"\n",
    "    - This could be a malicious file, possibly with some macro magic 🤔\n",
    "    - Or instructing the victim to do something...?\n",
    "- `Message-Id` is Base64 encoded...\n",
    "    - We can decode this using `echo '<base64 content>' | base64 --decode\n",
    "- It has a Spamscore of **3**\n",
    "- In the `Received` header we can see that it was indeed sent internally from and by mail.santaclaus.thm.\n",
    "- The `Return-Path` email looks a bit suspicious: **murphy.evident@bandityeti.thm**\n",
    "- Following the multipart content:\n",
    "    - We see the `----------03edd9c682aec8f60d54b9e4bb86659f` from the initial Content-Type header above.\n",
    "        - It looks like this is the start of that content this header was referring to\n",
    "    - This follows to another `Content-Type:multipart/ related; boundary=----------8f117c48beda7f1c1da0a5a894d5c4b5`, which in turn is followed by the start of this `8f117c48beda7f1c1da0a5a894d5c4b5` content\n",
    "        - This one however has a content-type of text/html in utf-8, it also contained some base64 content\n",
    "    - It is also followed by the next Content-Type of \"application/msword\", which is a base64 encoded version of the attachment. Base64 allows us to transfer binary data easily through http or just about any protocol as text based data.\n",
    "    - From the `Content-Disposition` following the filename/name is the actual file attachment.\n",
    "        - If we follow it all the way to the end, we see this is where the actual payload for the original Content-Type header of `03edd9c682aec8f60d54b9e4bb86659f` ends, signaled by the double dashes `--` following it: `03edd9c682aec8f60d54b9e4bb86659f--`\n",
    "\n",
    "## Decoded the message using base64\n",
    "I grabbed the base64 contenxt of the first `8f117c48beda7f1c1da0a5a894d5c4b5` and decoded it\n",
    "```Shell\n",
    "echo '<InsertBase64 Here>' | base64 --decode\n",
    "```\n",
    "This is done automatically for you with the **emlAnalyzer** tool below in the HTML section of the output.\n",
    "\n",
    "## Extracting the attached file manually\n",
    "We can snag the document by copying the base64 following the name of the file and then decoding to an output file. Something like this:\n",
    "```Shell\n",
    "echo '<InsertBase64 Here>' | base64 --decode > output.doc\n",
    "```\n",
    "This is also done automatically with the `--extract-all` flag in **emlAnalyzer**"
   ]
  },
  {
   "attachments": {},
   "cell_type": "markdown",
   "metadata": {},
   "source": [
    "# Using the `emlAnalyzer tool\n",
    "I ran the following command:\n",
    "```Shell\n",
    "emlAnalyzer -i Urgent\\:.emt --header --html -u --text --extract-all\n",
    "```\n",
    "\n",
    "This automatically decodes the Base64 HTML of the message and it also extracts the attached \"doc\" file into the eml_attachments directory.\n",
    "\n",
    "---    \n",
    "\n",
    "To answer some of the follow up questions:\n",
    "To get the hash of the doc:\n",
    "`sha256sum <name of file>`\n",
    "\n",
    "Then simply use VirusTotal and InQuest to get the details!\n",
    "\n",
    "## HAPPY HUNTING :)\n"
   ]
  }
 ],
 "metadata": {
  "kernelspec": {
   "display_name": "Python 3.8.10 64-bit",
   "language": "python",
   "name": "python3"
  },
  "language_info": {
   "name": "python",
   "version": "3.8.10 (default, Nov 14 2022, 12:59:47) \n[GCC 9.4.0]"
  },
  "orig_nbformat": 4,
  "vscode": {
   "interpreter": {
    "hash": "5b3ded1ccb95c1d9bd405e7b823d9e85424cde40fbb5985eb47e999ef50e15b4"
   }
  }
 },
 "nbformat": 4,
 "nbformat_minor": 2
}
